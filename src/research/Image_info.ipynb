{
 "cells": [
  {
   "cell_type": "code",
   "execution_count": 14,
   "id": "afd383af",
   "metadata": {},
   "outputs": [],
   "source": [
    "import os\n",
    "from model import llm\n",
    "from pathlib import Path"
   ]
  },
  {
   "cell_type": "code",
   "execution_count": 5,
   "id": "ba4e6fdc",
   "metadata": {},
   "outputs": [
    {
     "data": {
      "text/plain": [
       "'r:\\\\TAZMIC\\\\src\\\\research'"
      ]
     },
     "execution_count": 5,
     "metadata": {},
     "output_type": "execute_result"
    }
   ],
   "source": [
    "%pwd"
   ]
  },
  {
   "cell_type": "code",
   "execution_count": 6,
   "id": "366364b6",
   "metadata": {},
   "outputs": [],
   "source": [
    "os.chdir(\"../\")"
   ]
  },
  {
   "cell_type": "code",
   "execution_count": null,
   "id": "473d5d09",
   "metadata": {},
   "outputs": [
    {
     "name": "stdout",
     "output_type": "stream",
     "text": [
      "Processing: screenshot.png\n",
      "response: The image is titled \"On the Biology of a Large Language Model\" and serves as an overview of investigations into the internal mechanisms of the Claude 3.5 Haiku language model, developed by Anthropic. The study employs a circuit tracing methodology to analyze how the model generates text in various contexts.\n",
      "\n",
      "The image is divided into different sections, each represented by a labeled diagram. These sections highlight specific aspects of the language model's behavior and functionality:\n",
      "\n",
      "1. **Introductory Example: Multi-Step Reasoning** - Shows logic chains, such as connecting terms like \"capital,\" \"state,\" and \"Texas.\"\n",
      "\n",
      "2. **Planning in Poems** - Displays how the model handles rhyming words, such as \"rabbit,\" \"habit,\" and \"it.\"\n",
      "\n",
      "3. **Multilingual Circuits** - Focuses on the model's ability to process multiple languages and translate, such as quoting Chinese text.\n",
      "\n",
      "4. **Addition** - Represents mathematical operations, presumably showcasing how the model computes numbers.\n",
      "\n",
      "5. **Medical Diagnoses** - Shows applications like identifying connections between terms like \"visual deficits,\" \"preeclampsia,\" and \"pregnancy.\"\n",
      "\n",
      "6. **Entity Recognition and Hallucinations** - Examines how the model identifies entities like \"Michael Jordan,\" distinguishing between known and unknown names.\n",
      "\n",
      "7. **Refusals** - Illustrates the model's capacity to decline harmful requests, such as rejecting combinations like \"bleach+ammonia.\"\n",
      "\n",
      "8. **Life of a Jailbreak** - Examines how the model processes a potentially risky input like \"BOMB\" and breaks it into components such as \"first letter.\"\n",
      "\n",
      "9. **Chain-of-Thought Faithfulness** - Demonstrates logical reasoning steps taken by the model, such as evaluating a mathematical expression step by step.\n",
      "\n",
      "10. **Uncovering Hidden Goals in a Misaligned Model** - Investigates biases or persistent tendencies in the model’s behavior.\n",
      "\n",
      "11. **Commonly Observed Circuit Components and Structure** - Presents visualizations of model architectures, showing interconnections and layered structures.\n",
      "\n",
      "12. **Limitations** - Highlights areas where the model struggles, such as tracing prior tokens and focusing on induction heads.\n",
      "\n",
      "At the bottom, the authors, affiliations (Anthropic), and publication date (March 27, 2025) are listed.\n",
      "\n",
      "This overview image is structured to summarize key findings while visually appealing with colorful diagrams and concise descriptions for each investigated behavior or functionality.\n",
      "--------------------------------------------------\n"
     ]
    }
   ],
   "source": [
    "import os\n",
    "import base64\n",
    "from pathlib import Path\n",
    "\n",
    "try:\n",
    "    biology_dir = \"R:/TAZMIC/artifacts/research_papers/biology\"\n",
    "    png_files = [file for file in os.listdir(biology_dir) if file.endswith(\".png\")]\n",
    "    \n",
    "    if not png_files:\n",
    "        print(\"No PNG files found in the directory\")\n",
    "    else:\n",
    "        for file in png_files:\n",
    "            file_path = Path(biology_dir, file)\n",
    "            \n",
    "            if file_path.exists():\n",
    "                \n",
    "                try:\n",
    "                    # Read and encode the image as base64\n",
    "                    with open(file_path, \"rb\") as image_file:\n",
    "                        image_data = base64.b64encode(image_file.read()).decode('utf-8')\n",
    "                    \n",
    "                    # Determine the MIME type\n",
    "                    mime_type = \"image/png\"\n",
    "                    \n",
    "                    # Create the message with base64 data URL\n",
    "                    message = {\n",
    "                        \"role\": \"user\",\n",
    "                        \"content\": [\n",
    "                            {\"type\": \"text\", \"text\": \"Describe the image.\"},\n",
    "                            {\"type\": \"image_url\", \"image_url\": {\"url\": f\"data:{mime_type};base64,{image_data}\"}}\n",
    "                        ]\n",
    "                    }\n",
    "                    \n",
    "                    response = llm.invoke([message])\n",
    "                    print(f'response: {response.content}')\n",
    "                    print(\"-\" * 50)\n",
    "                    \n",
    "                except Exception as e:\n",
    "                    print(f\"Error processing {file}: {e}\")\n",
    "            else:\n",
    "                print(f\"File not found: {file_path}\")\n",
    "\n",
    "except FileNotFoundError:\n",
    "    print(f\"Directory not found: {biology_dir}\")\n",
    "except Exception as e:\n",
    "    print(f\"Error accessing directory: {e}\")"
   ]
  }
 ],
 "metadata": {
  "kernelspec": {
   "display_name": "TAZMIC (3.13.3)",
   "language": "python",
   "name": "python3"
  },
  "language_info": {
   "codemirror_mode": {
    "name": "ipython",
    "version": 3
   },
   "file_extension": ".py",
   "mimetype": "text/x-python",
   "name": "python",
   "nbconvert_exporter": "python",
   "pygments_lexer": "ipython3",
   "version": "3.13.3"
  }
 },
 "nbformat": 4,
 "nbformat_minor": 5
}
